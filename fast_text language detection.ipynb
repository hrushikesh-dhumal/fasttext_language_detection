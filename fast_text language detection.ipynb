{
 "cells": [
  {
   "cell_type": "code",
   "execution_count": 3,
   "metadata": {},
   "outputs": [],
   "source": [
    "import fasttext\n",
    "from fasttext import tokenize"
   ]
  },
  {
   "cell_type": "code",
   "execution_count": 4,
   "metadata": {},
   "outputs": [],
   "source": [
    "import re"
   ]
  },
  {
   "cell_type": "code",
   "execution_count": 36,
   "metadata": {},
   "outputs": [],
   "source": [
    "import os"
   ]
  },
  {
   "cell_type": "code",
   "execution_count": 37,
   "metadata": {},
   "outputs": [
    {
     "name": "stderr",
     "output_type": "stream",
     "text": [
      "Warning : `load_model` does not return WordVectorModel or SupervisedModel any more, but a `FastText` object which is very similar.\n"
     ]
    }
   ],
   "source": [
    "# I am using lid.176.bin, which is faster and slightly more accurate,\n",
    "# there is a compressed version avaiable at https://fasttext.cc/docs/en/language-identification.html\n",
    "fasttext_language_model = fasttext.load_model(os.path.join(\"model\", \"lid.176.bin\"))"
   ]
  },
  {
   "cell_type": "code",
   "execution_count": 20,
   "metadata": {},
   "outputs": [],
   "source": [
    "white_space_pattern = re.compile(r\"\\s\")"
   ]
  },
  {
   "cell_type": "code",
   "execution_count": 147,
   "metadata": {},
   "outputs": [],
   "source": [
    "def preprocess_text_for_language_detection(text: str):\n",
    "    \"\"\"\n",
    "    Cleans the text as per fasttext requirements.\n",
    "    The requirements can be found here: https://pypi.org/project/fasttext/\n",
    "    \n",
    "    :text: str: text to clean\n",
    "    :returns: str: cleaned text\n",
    "    \"\"\"\n",
    "    # fastText assumes UTF-8 encoded text\n",
    "    text = str(text)\n",
    "    \n",
    "    # fastText is not aware of UTF-8 whitespace\n",
    "    # Replace all white space with space\n",
    "    text = white_space_pattern.sub(text, \" \")\n",
    "    \n",
    "    # Tokenize text, per fastext function and rejoin\n",
    "    tokens = tokenize(text)\n",
    "    text = \" \".join(tokens)\n",
    "    n = len(tokens)\n",
    "    \n",
    "    # Remove white space char as it affects the model accuracy\n",
    "    text = text.replace(\"</s>\", \"\")\n",
    "    \n",
    "    return text.lower()"
   ]
  },
  {
   "cell_type": "code",
   "execution_count": 148,
   "metadata": {},
   "outputs": [
    {
     "name": "stdout",
     "output_type": "stream",
     "text": [
      "(('__label__en',), array([0.44373196]))\n",
      "(('__label__en',), array([0.7606498]))\n"
     ]
    }
   ],
   "source": [
    "# Effect of new line on language detection\n",
    "print(fasttext_language_model.predict(\" \".join(tokenize(\"The door bell rang twice,\\n but no one opened the door\"))))\n",
    "print(fasttext_language_model.predict(\" \".join(tokenize(\"The door bell rang twice, but no one opened the door\"))))"
   ]
  },
  {
   "cell_type": "code",
   "execution_count": 149,
   "metadata": {},
   "outputs": [
    {
     "name": "stdout",
     "output_type": "stream",
     "text": [
      "(('__label__en', '__label__nl'), array([0.58429289, 0.37814581]))\n",
      "(('__label__en',), array([0.75521648]))\n"
     ]
    }
   ],
   "source": [
    "# Effect of exclamation, at the end of sentence\n",
    "print(fasttext_language_model.predict(\" \".join(tokenize(\"The door opened!\")), 2))\n",
    "print(fasttext_language_model.predict(\" \".join(tokenize(\"The door opened\"))))"
   ]
  },
  {
   "cell_type": "code",
   "execution_count": 150,
   "metadata": {},
   "outputs": [
    {
     "name": "stdout",
     "output_type": "stream",
     "text": [
      "(('__label__en',), array([0.91090018]))\n",
      "(('__label__en',), array([0.80553901]))\n"
     ]
    }
   ],
   "source": [
    "# Effect of exclamation, at the end of sentence\n",
    "print(fasttext_language_model.predict(\" \".join(tokenize(\"You scared the life out of me!\"))))\n",
    "print(fasttext_language_model.predict(\" \".join(tokenize(\"You scared the life out of me\"))))"
   ]
  },
  {
   "cell_type": "code",
   "execution_count": 151,
   "metadata": {},
   "outputs": [
    {
     "name": "stdout",
     "output_type": "stream",
     "text": [
      "(('__label__en',), array([0.98612791]))\n",
      "(('__label__en',), array([0.95733058]))\n"
     ]
    }
   ],
   "source": [
    "# Effect of exclamation, at the end of sentence\n",
    "print(fasttext_language_model.predict(\" \".join(tokenize(\"It's a boy!\"))))\n",
    "print(fasttext_language_model.predict(\" \".join(tokenize(\"It's a boy\"))))"
   ]
  },
  {
   "cell_type": "code",
   "execution_count": 152,
   "metadata": {},
   "outputs": [
    {
     "name": "stdout",
     "output_type": "stream",
     "text": [
      "(('__label__en',), array([0.78890896]))\n",
      "(('__label__en',), array([1.00000072]))\n"
     ]
    }
   ],
   "source": [
    "# Effect of exclamation, at the end of sentence\n",
    "print(fasttext_language_model.predict(\" \".join(tokenize(\"We won!\"))))\n",
    "print(fasttext_language_model.predict(\" \".join(tokenize(\"We won\"))))"
   ]
  },
  {
   "cell_type": "code",
   "execution_count": 153,
   "metadata": {},
   "outputs": [
    {
     "name": "stdout",
     "output_type": "stream",
     "text": [
      "(('__label__en',), array([0.95603132]))\n",
      "(('__label__en',), array([0.97222412]))\n"
     ]
    }
   ],
   "source": [
    "# Effect of question mark, at the end of sentence\n",
    "print(fasttext_language_model.predict(\" \".join(tokenize(\"Do you drink?\"))))\n",
    "print(fasttext_language_model.predict(\" \".join(tokenize(\"Do you drink\"))))"
   ]
  },
  {
   "cell_type": "code",
   "execution_count": 154,
   "metadata": {},
   "outputs": [
    {
     "name": "stdout",
     "output_type": "stream",
     "text": [
      "(('__label__en',), array([0.97491264]))\n",
      "(('__label__en',), array([0.79377073]))\n"
     ]
    }
   ],
   "source": [
    "# Effect of full stop, at the end of sentence\n",
    "print(fasttext_language_model.predict(\" \".join(tokenize(\"John opened the door.\"))))\n",
    "print(fasttext_language_model.predict(\" \".join(tokenize(\"John opened the door\"))))"
   ]
  },
  {
   "cell_type": "code",
   "execution_count": 155,
   "metadata": {},
   "outputs": [
    {
     "name": "stdout",
     "output_type": "stream",
     "text": [
      "(('__label__en',), array([0.98221743]))\n",
      "(('__label__en',), array([0.95327079]))\n"
     ]
    }
   ],
   "source": [
    "# Effect of quotes, at the end of sentence\n",
    "print(fasttext_language_model.predict(\" \".join(tokenize('I told her, \"Take the plates away.\"'))))\n",
    "print(fasttext_language_model.predict(\" \".join(tokenize('I told her, Take the plates away'))))"
   ]
  },
  {
   "cell_type": "code",
   "execution_count": 156,
   "metadata": {},
   "outputs": [
    {
     "name": "stdout",
     "output_type": "stream",
     "text": [
      "(('__label__en',), array([0.75521648]))\n",
      "(('__label__en',), array([0.79327965]))\n"
     ]
    }
   ],
   "source": [
    "# Effect of lowercase\n",
    "print(fasttext_language_model.predict(\" \".join(tokenize(\"The door opened\"))))\n",
    "print(fasttext_language_model.predict(\" \".join(tokenize(\"The door opened\".lower()))))"
   ]
  },
  {
   "cell_type": "code",
   "execution_count": 157,
   "metadata": {},
   "outputs": [],
   "source": [
    "text = \"¿Cómo estás\""
   ]
  },
  {
   "cell_type": "code",
   "execution_count": 158,
   "metadata": {},
   "outputs": [
    {
     "data": {
      "text/plain": [
       "'¿cómo estás'"
      ]
     },
     "execution_count": 158,
     "metadata": {},
     "output_type": "execute_result"
    }
   ],
   "source": [
    "cleaned_text = preprocess_text_for_language_detection(text)\n",
    "cleaned_text"
   ]
  },
  {
   "cell_type": "code",
   "execution_count": 160,
   "metadata": {},
   "outputs": [
    {
     "data": {
      "text/plain": [
       "((('__label__es',), array([1.00004685])),\n",
       " (('__label__es',), array([1.00004709])))"
      ]
     },
     "execution_count": 160,
     "metadata": {},
     "output_type": "execute_result"
    }
   ],
   "source": [
    "fasttext_language_model.predict(text), fasttext_language_model.predict(cleaned_text)"
   ]
  },
  {
   "cell_type": "code",
   "execution_count": 217,
   "metadata": {},
   "outputs": [],
   "source": [
    "def identify_languages(text: str, no_of_languages: int =1, threshold: float=0.0):\n",
    "    \n",
    "    clean_text = preprocess_text_for_language_detection(text)\n",
    "    ft_output = fasttext_language_model.predict(text, no_of_languages, threshold=threshold)\n",
    "    # format output\n",
    "    result = [(ft_output[0][i][-2:], ft_output[1][i]) for i in range(len(ft_output[0]))]\n",
    "    return result"
   ]
  },
  {
   "cell_type": "code",
   "execution_count": 218,
   "metadata": {},
   "outputs": [
    {
     "data": {
      "text/plain": [
       "[('en', 0.8984457850456238),\n",
       " ('nl', 0.09827558696269989),\n",
       " ('ru', 0.0020195997785776854),\n",
       " ('it', 0.0004695519746746868)]"
      ]
     },
     "execution_count": 218,
     "metadata": {},
     "output_type": "execute_result"
    }
   ],
   "source": [
    "identify_languages(\"the door is open\", 4)"
   ]
  },
  {
   "cell_type": "code",
   "execution_count": null,
   "metadata": {},
   "outputs": [],
   "source": []
  }
 ],
 "metadata": {
  "kernelspec": {
   "display_name": "py37_nlp",
   "language": "python",
   "name": "py37_nlp"
  },
  "language_info": {
   "codemirror_mode": {
    "name": "ipython",
    "version": 3
   },
   "file_extension": ".py",
   "mimetype": "text/x-python",
   "name": "python",
   "nbconvert_exporter": "python",
   "pygments_lexer": "ipython3",
   "version": "3.7.7"
  }
 },
 "nbformat": 4,
 "nbformat_minor": 4
}
